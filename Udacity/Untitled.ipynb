{
 "cells": [
  {
   "cell_type": "code",
   "execution_count": 1,
   "id": "8d70b2cd-e073-4af4-91ec-1cace39159ac",
   "metadata": {},
   "outputs": [
    {
     "name": "stdout",
     "output_type": "stream",
     "text": [
      "Testing mean function\n",
      "Testing add_five function\n",
      "All tests passed!\n"
     ]
    }
   ],
   "source": [
    "def mean(num_list):\n",
    "    return sum(num_list) / len(num_list)\n",
    "\n",
    "def add_five(num_list):\n",
    "    return [n + 5 for n in num_list]\n",
    "\n",
    "def main():\n",
    "    print(\"Testing mean function\")\n",
    "    n_list = [34, 44, 23, 46, 12, 24]\n",
    "    correct_mean = 30.5\n",
    "    assert(mean(n_list) == correct_mean)\n",
    "\n",
    "    print(\"Testing add_five function\")\n",
    "    correct_list = [39, 49, 28, 51, 17, 29]\n",
    "    assert(add_five(n_list) == correct_list)\n",
    "\n",
    "    print(\"All tests passed!\")\n",
    "\n",
    "if __name__ == '__main__':\n",
    "    main()"
   ]
  },
  {
   "cell_type": "code",
   "execution_count": 3,
   "id": "b893b7a1-f8bd-434c-a4f9-bee8879db231",
   "metadata": {},
   "outputs": [
    {
     "name": "stdout",
     "output_type": "stream",
     "text": [
      "hello  world\n"
     ]
    }
   ],
   "source": [
    "print('hello  world')"
   ]
  },
  {
   "cell_type": "code",
   "execution_count": 7,
   "id": "a94148cb-0066-4579-b56f-8e290ec9d687",
   "metadata": {},
   "outputs": [
    {
     "name": "stdout",
     "output_type": "stream",
     "text": [
      "{'great': 2, 'expectations': 1, 'the': 2, 'adventures': 2, 'of': 2, 'sherlock': 1, 'holmes': 1, 'gasby': 1, 'hamlet': 1, 'huckleberry': 1, 'fin': 1}\n",
      "\n",
      "\n",
      "\n",
      "\n",
      "{'great': 2, 'expectations': 1, 'the': 2, 'adventures': 2, 'of': 2, 'sherlock': 1, 'holmes': 1, 'gasby': 1, 'hamlet': 1, 'huckleberry': 1, 'fin': 1}\n"
     ]
    }
   ],
   "source": [
    "book_title =  ['great', 'expectations','the', 'adventures', 'of', 'sherlock','holmes','the','great','gasby','hamlet','adventures','of','huckleberry','fin']\n",
    "word_counter = {}\n",
    "#this is one way of counting words in a string\n",
    "for word in book_title:\n",
    "    if word not in word_counter:\n",
    "        word_counter[word]=1\n",
    "    else:\n",
    "        word_counter[word] +=1\n",
    "\n",
    "print(word_counter)\n",
    "print(\"\\n\\n\\n\")\n",
    "\n",
    "#Second method \n",
    "word_counter2 = {}\n",
    "\n",
    "for word in book_title:\n",
    "    word_counter2[word] = word_counter2.get(word,0)+1\n",
    "\n",
    "#if the word is got for the 1st time, the get method will return 0 and then 1 is add to it \n",
    "#so that the value of that key is now 1\n",
    "#if the same word is got for a 2nd or 3rd time or more, the get method will return it's current value and then add 1 to the value\n",
    "\n",
    "print(word_counter2)\n"
   ]
  },
  {
   "cell_type": "code",
   "execution_count": 11,
   "id": "4cac0b1d-33f2-4920-acc9-6dc2fb186ed6",
   "metadata": {},
   "outputs": [],
   "source": [
    "#this is just testing markdown\n",
    "##this is just a test\n",
    "###nothing but a **test**"
   ]
  },
  {
   "cell_type": "code",
   "execution_count": null,
   "id": "95ec322f-72ad-4b06-a3e6-dd9ade747f15",
   "metadata": {},
   "outputs": [],
   "source": []
  }
 ],
 "metadata": {
  "kernelspec": {
   "display_name": "Python 3 (ipykernel)",
   "language": "python",
   "name": "python3"
  },
  "language_info": {
   "codemirror_mode": {
    "name": "ipython",
    "version": 3
   },
   "file_extension": ".py",
   "mimetype": "text/x-python",
   "name": "python",
   "nbconvert_exporter": "python",
   "pygments_lexer": "ipython3",
   "version": "3.12.4"
  }
 },
 "nbformat": 4,
 "nbformat_minor": 5
}
